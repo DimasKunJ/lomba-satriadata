{
  "nbformat": 4,
  "nbformat_minor": 0,
  "metadata": {
    "colab": {
      "name": "Satria data 2.ipynb",
      "provenance": [],
      "collapsed_sections": []
    },
    "kernelspec": {
      "name": "python3",
      "display_name": "Python 3"
    },
    "language_info": {
      "name": "python"
    }
  },
  "cells": [
    {
      "cell_type": "code",
      "metadata": {
        "colab": {
          "base_uri": "https://localhost:8080/"
        },
        "id": "EV9GxFWtBxsP",
        "outputId": "27df6d92-3d57-4531-f017-aacc09170c55"
      },
      "source": [
        "# import library\n",
        "from sklearn.datasets import load_iris\n",
        "import pandas as pd\n",
        "import seaborn as sns\n",
        "import numpy as np\n",
        "import tensorflow as tf\n",
        "print(tf.__version__)\n",
        "import zipfile,os\n",
        "import random\n",
        "import shutil\n",
        "import keras_preprocessing\n",
        "from keras_preprocessing import image\n",
        "from keras_preprocessing.image import ImageDataGenerator\n",
        "from google.colab import files\n",
        "from keras.preprocessing import image"
      ],
      "execution_count": null,
      "outputs": [
        {
          "output_type": "stream",
          "name": "stdout",
          "text": [
            "2.6.0\n"
          ]
        }
      ]
    },
    {
      "cell_type": "code",
      "metadata": {
        "colab": {
          "base_uri": "https://localhost:8080/"
        },
        "id": "p1vev8blB2mH",
        "outputId": "c6b5319e-c6c5-4552-ed2f-edfad0181a07"
      },
      "source": [
        "# mount google drive\n",
        "from google.colab import drive\n",
        "drive.mount('/content/drive')"
      ],
      "execution_count": null,
      "outputs": [
        {
          "output_type": "stream",
          "name": "stdout",
          "text": [
            "Mounted at /content/drive\n"
          ]
        }
      ]
    },
    {
      "cell_type": "code",
      "metadata": {
        "id": "6zIi1Cy6B4Lk"
      },
      "source": [
        "os.chdir(r'/content/drive/My Drive/Tugas/satria-data')\n"
      ],
      "execution_count": null,
      "outputs": []
    },
    {
      "cell_type": "code",
      "metadata": {
        "id": "NhJkuMvFCpaU"
      },
      "source": [
        "#!unzip \"data.zip\""
      ],
      "execution_count": null,
      "outputs": []
    },
    {
      "cell_type": "code",
      "metadata": {
        "id": "6c5d4PCOCqJf"
      },
      "source": [
        "base_dir = '/content/drive/My Drive/Tugas/satria-data/data'\n",
        "train = os.path.join(base_dir, 'Train_gender')\n",
        "test = os.path.join(base_dir, 'Testing')"
      ],
      "execution_count": null,
      "outputs": []
    },
    {
      "cell_type": "code",
      "metadata": {
        "id": "626tpDAIB8-x"
      },
      "source": [
        "class myCallback(tf.keras.callbacks.Callback):\n",
        "  def on_epoch_end(self, epoch, logs={}):\n",
        "    if(logs.get('accuracy')>0.99):\n",
        "      print(\"\\nReached 90% accuracy so cancelling training!\")\n",
        "      self.model.stop_training = True"
      ],
      "execution_count": null,
      "outputs": []
    },
    {
      "cell_type": "code",
      "metadata": {
        "id": "ikOiAcXMB-zj"
      },
      "source": [
        "train_datagen = ImageDataGenerator(\n",
        "                    rescale=1./255,\n",
        "                    rotation_range=20,\n",
        "                    horizontal_flip=True,\n",
        "                    shear_range = 0.2,\n",
        "                    fill_mode = 'nearest',\n",
        "                    validation_split=0.2)"
      ],
      "execution_count": null,
      "outputs": []
    },
    {
      "cell_type": "code",
      "metadata": {
        "colab": {
          "base_uri": "https://localhost:8080/"
        },
        "id": "M8fpm7nQCCeH",
        "outputId": "7e2f271f-45ba-4785-f25c-197a1d4557e2"
      },
      "source": [
        "train_generator = train_datagen.flow_from_directory(\n",
        "        train,\n",
        "        target_size=(200, 260),\n",
        "        batch_size=20,\n",
        "        class_mode='binary',\n",
        "        subset='training')\n",
        " \n",
        "val_generator = train_datagen.flow_from_directory(\n",
        "        train,\n",
        "        target_size=(200, 260),\n",
        "        batch_size=20,\n",
        "        class_mode='binary',\n",
        "        subset='validation')"
      ],
      "execution_count": null,
      "outputs": [
        {
          "output_type": "stream",
          "name": "stdout",
          "text": [
            "Found 1849 images belonging to 2 classes.\n",
            "Found 461 images belonging to 2 classes.\n"
          ]
        }
      ]
    },
    {
      "cell_type": "code",
      "metadata": {
        "colab": {
          "base_uri": "https://localhost:8080/"
        },
        "id": "aVchmgItCHqD",
        "outputId": "de69ed96-eb8e-42e8-a23d-2546e9597582"
      },
      "source": [
        "model = tf.keras.models.Sequential([\n",
        "    tf.keras.layers.Conv2D(64, (3,3), activation='relu', input_shape=(200, 260, 3)),\n",
        "    tf.keras.layers.Conv2D(64, (3,3), activation='relu'),\n",
        "    tf.keras.layers.MaxPooling2D(2,2),\n",
        "    tf.keras.layers.Conv2D(128, (3,3), activation='relu'),\n",
        "    tf.keras.layers.Conv2D(128, (3,3), activation='relu'),\n",
        "    tf.keras.layers.MaxPooling2D(2,2),\n",
        "    tf.keras.layers.Conv2D(256, (3,3), activation='relu'),\n",
        "    tf.keras.layers.Conv2D(256, (3,3), activation='relu'),\n",
        "    tf.keras.layers.Conv2D(256, (3,3), activation='relu'),\n",
        "    tf.keras.layers.MaxPooling2D(2,2),\n",
        "    tf.keras.layers.Flatten(),\n",
        "    tf.keras.layers.Dropout(0.2),\n",
        "    tf.keras.layers.Dense(512, activation='relu'),\n",
        "    tf.keras.layers.Dense(256, activation='relu'),\n",
        "    tf.keras.layers.Dense(1, activation='sigmoid')\n",
        "])\n",
        "\n",
        "model.summary()"
      ],
      "execution_count": null,
      "outputs": [
        {
          "output_type": "stream",
          "name": "stdout",
          "text": [
            "Model: \"sequential\"\n",
            "_________________________________________________________________\n",
            "Layer (type)                 Output Shape              Param #   \n",
            "=================================================================\n",
            "conv2d (Conv2D)              (None, 198, 258, 64)      1792      \n",
            "_________________________________________________________________\n",
            "conv2d_1 (Conv2D)            (None, 196, 256, 64)      36928     \n",
            "_________________________________________________________________\n",
            "max_pooling2d (MaxPooling2D) (None, 98, 128, 64)       0         \n",
            "_________________________________________________________________\n",
            "conv2d_2 (Conv2D)            (None, 96, 126, 128)      73856     \n",
            "_________________________________________________________________\n",
            "conv2d_3 (Conv2D)            (None, 94, 124, 128)      147584    \n",
            "_________________________________________________________________\n",
            "max_pooling2d_1 (MaxPooling2 (None, 47, 62, 128)       0         \n",
            "_________________________________________________________________\n",
            "conv2d_4 (Conv2D)            (None, 45, 60, 256)       295168    \n",
            "_________________________________________________________________\n",
            "conv2d_5 (Conv2D)            (None, 43, 58, 256)       590080    \n",
            "_________________________________________________________________\n",
            "conv2d_6 (Conv2D)            (None, 41, 56, 256)       590080    \n",
            "_________________________________________________________________\n",
            "max_pooling2d_2 (MaxPooling2 (None, 20, 28, 256)       0         \n",
            "_________________________________________________________________\n",
            "flatten (Flatten)            (None, 143360)            0         \n",
            "_________________________________________________________________\n",
            "dropout (Dropout)            (None, 143360)            0         \n",
            "_________________________________________________________________\n",
            "dense (Dense)                (None, 512)               73400832  \n",
            "_________________________________________________________________\n",
            "dense_1 (Dense)              (None, 256)               131328    \n",
            "_________________________________________________________________\n",
            "dense_2 (Dense)              (None, 1)                 257       \n",
            "=================================================================\n",
            "Total params: 75,267,905\n",
            "Trainable params: 75,267,905\n",
            "Non-trainable params: 0\n",
            "_________________________________________________________________\n"
          ]
        }
      ]
    },
    {
      "cell_type": "code",
      "metadata": {
        "id": "RtuHHoetCKIw"
      },
      "source": [
        "model.compile(loss='binary_crossentropy',\n",
        "              optimizer='adam',\n",
        "              metrics=['accuracy'])"
      ],
      "execution_count": null,
      "outputs": []
    },
    {
      "cell_type": "code",
      "metadata": {
        "colab": {
          "base_uri": "https://localhost:8080/"
        },
        "id": "pMtDSwwjCLpl",
        "outputId": "b071eae1-2081-43b6-8d22-6e9b922db3c6"
      },
      "source": [
        "callbacks = myCallback()\n",
        "\n",
        "iterate_model = model.fit(\n",
        "      train_generator,\n",
        "      steps_per_epoch=len(train_generator), \n",
        "      epochs=50, \n",
        "      validation_data=val_generator, \n",
        "      validation_steps=len(val_generator),  \n",
        "      verbose=1,\n",
        "      callbacks=[callbacks])"
      ],
      "execution_count": null,
      "outputs": [
        {
          "output_type": "stream",
          "name": "stdout",
          "text": [
            "Epoch 1/50\n",
            "93/93 [==============================] - 2246s 24s/step - loss: 0.8119 - accuracy: 0.5787 - val_loss: 0.6812 - val_accuracy: 0.5813\n",
            "Epoch 2/50\n",
            "93/93 [==============================] - 2118s 23s/step - loss: 0.6829 - accuracy: 0.5760 - val_loss: 0.6805 - val_accuracy: 0.5813\n",
            "Epoch 3/50\n",
            "93/93 [==============================] - 2111s 23s/step - loss: 0.6824 - accuracy: 0.5803 - val_loss: 0.6807 - val_accuracy: 0.5813\n",
            "Epoch 4/50\n",
            "93/93 [==============================] - 2107s 23s/step - loss: 0.6812 - accuracy: 0.5803 - val_loss: 0.6799 - val_accuracy: 0.5813\n",
            "Epoch 5/50\n",
            "93/93 [==============================] - 2109s 23s/step - loss: 0.6803 - accuracy: 0.5803 - val_loss: 0.6798 - val_accuracy: 0.5813\n",
            "Epoch 6/50\n",
            "93/93 [==============================] - 2112s 23s/step - loss: 0.6816 - accuracy: 0.5803 - val_loss: 0.6799 - val_accuracy: 0.5813\n",
            "Epoch 7/50\n",
            "93/93 [==============================] - 2124s 23s/step - loss: 0.6804 - accuracy: 0.5803 - val_loss: 0.6799 - val_accuracy: 0.5813\n",
            "Epoch 8/50\n",
            "93/93 [==============================] - 2126s 23s/step - loss: 0.6806 - accuracy: 0.5803 - val_loss: 0.6799 - val_accuracy: 0.5813\n",
            "Epoch 9/50\n",
            "93/93 [==============================] - 2110s 23s/step - loss: 0.6805 - accuracy: 0.5803 - val_loss: 0.6799 - val_accuracy: 0.5813\n",
            "Epoch 10/50\n",
            "93/93 [==============================] - 2122s 23s/step - loss: 0.6805 - accuracy: 0.5803 - val_loss: 0.6799 - val_accuracy: 0.5813\n",
            "Epoch 11/50\n",
            "67/93 [====================>.........] - ETA: 9:11 - loss: 0.6825 - accuracy: 0.5741"
          ]
        }
      ]
    },
    {
      "cell_type": "code",
      "metadata": {
        "id": "kv7VoHzCCNKB"
      },
      "source": [
        "import matplotlib.pyplot as plt\n",
        "acc = iterate_model.history['accuracy']\n",
        "val_acc = iterate_model.history['val_accuracy']\n",
        "loss = iterate_model.history['loss']\n",
        "val_loss = iterate_model.history['val_loss']\n",
        "\n",
        "epochs = range(len(acc))\n",
        "\n",
        "plt.plot(epochs, acc, 'r', label='Training accuracy')\n",
        "plt.plot(epochs, val_acc, 'b', label='Validation accuracy')\n",
        "plt.title('Training and validation accuracy')\n",
        "plt.legend(loc=0)\n",
        "plt.figure()\n",
        "plt.plot(epochs, loss, 'r', label='Training loss')\n",
        "plt.plot(epochs, val_loss, 'b', label='Validation loss')\n",
        "plt.title('Training and validation loss')\n",
        "plt.legend(loc=0)\n",
        "plt.figure()\n",
        "\n",
        "plt.show()"
      ],
      "execution_count": null,
      "outputs": []
    },
    {
      "cell_type": "code",
      "metadata": {
        "id": "LJ69KSvICt8K"
      },
      "source": [
        ""
      ],
      "execution_count": null,
      "outputs": []
    }
  ]
}