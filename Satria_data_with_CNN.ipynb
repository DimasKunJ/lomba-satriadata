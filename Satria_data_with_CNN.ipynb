{
  "nbformat": 4,
  "nbformat_minor": 0,
  "metadata": {
    "colab": {
      "name": "Satria data.ipynb",
      "provenance": [],
      "collapsed_sections": []
    },
    "kernelspec": {
      "name": "python3",
      "display_name": "Python 3"
    },
    "language_info": {
      "name": "python"
    }
  },
  "cells": [
    {
      "cell_type": "code",
      "metadata": {
        "colab": {
          "base_uri": "https://localhost:8080/"
        },
        "id": "qe1YtdGAC2aU",
        "outputId": "4e96245e-fb91-49c8-c5d8-645cab2aca4b"
      },
      "source": [
        "# import library\n",
        "from sklearn.datasets import load_iris\n",
        "import pandas as pd\n",
        "import seaborn as sns\n",
        "import numpy as np\n",
        "import tensorflow as tf\n",
        "print(tf.__version__)\n",
        "import zipfile,os\n",
        "import random\n",
        "import shutil\n",
        "import keras_preprocessing\n",
        "from keras_preprocessing import image\n",
        "from keras_preprocessing.image import ImageDataGenerator\n",
        "from google.colab import files\n",
        "from keras.preprocessing import image"
      ],
      "execution_count": 1,
      "outputs": [
        {
          "output_type": "stream",
          "name": "stdout",
          "text": [
            "2.6.0\n"
          ]
        }
      ]
    },
    {
      "cell_type": "code",
      "metadata": {
        "colab": {
          "base_uri": "https://localhost:8080/"
        },
        "id": "eXacLbYIFMmc",
        "outputId": "f8e1389f-3d40-45ed-dd32-18c2e3f1acc3"
      },
      "source": [
        "# mount google drive\n",
        "from google.colab import drive\n",
        "drive.mount('/content/drive')"
      ],
      "execution_count": 2,
      "outputs": [
        {
          "output_type": "stream",
          "name": "stdout",
          "text": [
            "Mounted at /content/drive\n"
          ]
        }
      ]
    },
    {
      "cell_type": "code",
      "metadata": {
        "id": "dKNzFxCQFvCx"
      },
      "source": [
        "os.chdir(r'/content/drive/My Drive/Tugas/satria-data')\n"
      ],
      "execution_count": 3,
      "outputs": []
    },
    {
      "cell_type": "code",
      "metadata": {
        "id": "9O4OPrkYG2I7"
      },
      "source": [
        "#!unzip \"data.zip\""
      ],
      "execution_count": 4,
      "outputs": []
    },
    {
      "cell_type": "code",
      "metadata": {
        "id": "58AhAklTH58P"
      },
      "source": [
        "base_dir = '/content/drive/My Drive/Tugas/satria-data/data'\n",
        "train = os.path.join(base_dir, 'Train_gender')\n",
        "test = os.path.join(base_dir, 'Testing')"
      ],
      "execution_count": 5,
      "outputs": []
    },
    {
      "cell_type": "code",
      "metadata": {
        "id": "CYWGwzaRIpqW"
      },
      "source": [
        "class myCallback(tf.keras.callbacks.Callback):\n",
        "  def on_epoch_end(self, epoch, logs={}):\n",
        "    if(logs.get('accuracy')>0.99):\n",
        "      print(\"\\nReached 90% accuracy so cancelling training!\")\n",
        "      self.model.stop_training = True"
      ],
      "execution_count": 6,
      "outputs": []
    },
    {
      "cell_type": "code",
      "metadata": {
        "id": "04kaDdPLI4sp"
      },
      "source": [
        "train_datagen = ImageDataGenerator(\n",
        "                    rescale=1./255,\n",
        "                    rotation_range=20,\n",
        "                    horizontal_flip=True,\n",
        "                    shear_range = 0.2,\n",
        "                    fill_mode = 'nearest',\n",
        "                    validation_split=0.2)"
      ],
      "execution_count": 7,
      "outputs": []
    },
    {
      "cell_type": "code",
      "metadata": {
        "colab": {
          "base_uri": "https://localhost:8080/"
        },
        "id": "MycM7NHUJyWw",
        "outputId": "958fba1e-a77a-4372-9b4a-d5af5aabe089"
      },
      "source": [
        "train_generator = train_datagen.flow_from_directory(\n",
        "        train,\n",
        "        target_size=(150, 150),\n",
        "        batch_size=20,\n",
        "        class_mode='binary',\n",
        "        subset='training')\n",
        " \n",
        "val_generator = train_datagen.flow_from_directory(\n",
        "        train,\n",
        "        target_size=(150, 150),\n",
        "        batch_size=20,\n",
        "        class_mode='binary',\n",
        "        subset='validation')"
      ],
      "execution_count": 8,
      "outputs": [
        {
          "output_type": "stream",
          "name": "stdout",
          "text": [
            "Found 1849 images belonging to 2 classes.\n",
            "Found 461 images belonging to 2 classes.\n"
          ]
        }
      ]
    },
    {
      "cell_type": "code",
      "metadata": {
        "colab": {
          "base_uri": "https://localhost:8080/"
        },
        "id": "y_QtXmzpKdKP",
        "outputId": "3063bcaa-09a3-4786-d88e-db38192375bb"
      },
      "source": [
        "model = tf.keras.models.Sequential([\n",
        "    tf.keras.layers.Conv2D(32, (3,3), activation='relu', input_shape=(150, 150, 3)),\n",
        "    tf.keras.layers.MaxPooling2D(2, 2),\n",
        "    tf.keras.layers.Conv2D(64, (3,3), activation='relu'),\n",
        "    tf.keras.layers.MaxPooling2D(2,2),\n",
        "    tf.keras.layers.Conv2D(128, (3,3), activation='relu'),\n",
        "    tf.keras.layers.MaxPooling2D(2,2),\n",
        "    tf.keras.layers.Conv2D(256, (3,3), activation='relu'),\n",
        "    tf.keras.layers.MaxPooling2D(2,2),\n",
        "    tf.keras.layers.Flatten(),\n",
        "    tf.keras.layers.Dropout(0.2),\n",
        "    tf.keras.layers.Dense(512, activation='relu'),\n",
        "    tf.keras.layers.Dense(256, activation='relu'),\n",
        "    tf.keras.layers.Dense(128, activation='relu'),\n",
        "    tf.keras.layers.Dense(1, activation='sigmoid')\n",
        "])\n",
        "\n",
        "model.summary()"
      ],
      "execution_count": 9,
      "outputs": [
        {
          "output_type": "stream",
          "name": "stdout",
          "text": [
            "Model: \"sequential\"\n",
            "_________________________________________________________________\n",
            "Layer (type)                 Output Shape              Param #   \n",
            "=================================================================\n",
            "conv2d (Conv2D)              (None, 148, 148, 32)      896       \n",
            "_________________________________________________________________\n",
            "max_pooling2d (MaxPooling2D) (None, 74, 74, 32)        0         \n",
            "_________________________________________________________________\n",
            "conv2d_1 (Conv2D)            (None, 72, 72, 64)        18496     \n",
            "_________________________________________________________________\n",
            "max_pooling2d_1 (MaxPooling2 (None, 36, 36, 64)        0         \n",
            "_________________________________________________________________\n",
            "conv2d_2 (Conv2D)            (None, 34, 34, 128)       73856     \n",
            "_________________________________________________________________\n",
            "max_pooling2d_2 (MaxPooling2 (None, 17, 17, 128)       0         \n",
            "_________________________________________________________________\n",
            "conv2d_3 (Conv2D)            (None, 15, 15, 256)       295168    \n",
            "_________________________________________________________________\n",
            "max_pooling2d_3 (MaxPooling2 (None, 7, 7, 256)         0         \n",
            "_________________________________________________________________\n",
            "flatten (Flatten)            (None, 12544)             0         \n",
            "_________________________________________________________________\n",
            "dropout (Dropout)            (None, 12544)             0         \n",
            "_________________________________________________________________\n",
            "dense (Dense)                (None, 512)               6423040   \n",
            "_________________________________________________________________\n",
            "dense_1 (Dense)              (None, 256)               131328    \n",
            "_________________________________________________________________\n",
            "dense_2 (Dense)              (None, 128)               32896     \n",
            "_________________________________________________________________\n",
            "dense_3 (Dense)              (None, 1)                 129       \n",
            "=================================================================\n",
            "Total params: 6,975,809\n",
            "Trainable params: 6,975,809\n",
            "Non-trainable params: 0\n",
            "_________________________________________________________________\n"
          ]
        }
      ]
    },
    {
      "cell_type": "code",
      "metadata": {
        "id": "3-p3JIlvKoDh"
      },
      "source": [
        "model.compile(loss='binary_crossentropy',\n",
        "              optimizer='adam',\n",
        "              metrics=['accuracy'])"
      ],
      "execution_count": 10,
      "outputs": []
    },
    {
      "cell_type": "code",
      "metadata": {
        "colab": {
          "base_uri": "https://localhost:8080/"
        },
        "id": "ye-sAgoCLjVU",
        "outputId": "28c7638f-8e54-4456-bcef-acb8af254104"
      },
      "source": [
        "callbacks = myCallback()\n",
        "\n",
        "iterate_model = model.fit(\n",
        "      train_generator,\n",
        "      steps_per_epoch=len(train_generator), \n",
        "      epochs=50, \n",
        "      validation_data=val_generator, \n",
        "      validation_steps=len(val_generator),  \n",
        "      verbose=1,\n",
        "      callbacks=[callbacks])"
      ],
      "execution_count": null,
      "outputs": [
        {
          "output_type": "stream",
          "name": "stdout",
          "text": [
            "Epoch 1/50\n",
            "93/93 [==============================] - 645s 7s/step - loss: 0.6942 - accuracy: 0.5738 - val_loss: 0.6790 - val_accuracy: 0.5813\n",
            "Epoch 2/50\n",
            "93/93 [==============================] - 161s 2s/step - loss: 0.6821 - accuracy: 0.5803 - val_loss: 0.6777 - val_accuracy: 0.5965\n",
            "Epoch 3/50\n",
            "93/93 [==============================] - 162s 2s/step - loss: 0.6808 - accuracy: 0.5803 - val_loss: 0.6792 - val_accuracy: 0.5813\n",
            "Epoch 4/50\n",
            "93/93 [==============================] - 163s 2s/step - loss: 0.6783 - accuracy: 0.5771 - val_loss: 0.6787 - val_accuracy: 0.5835\n",
            "Epoch 5/50\n",
            "93/93 [==============================] - 162s 2s/step - loss: 0.6787 - accuracy: 0.5798 - val_loss: 0.6760 - val_accuracy: 0.5813\n",
            "Epoch 6/50\n",
            "93/93 [==============================] - 163s 2s/step - loss: 0.6707 - accuracy: 0.6009 - val_loss: 0.7128 - val_accuracy: 0.5662\n",
            "Epoch 7/50\n",
            "93/93 [==============================] - 160s 2s/step - loss: 0.6632 - accuracy: 0.6003 - val_loss: 0.6671 - val_accuracy: 0.6009\n",
            "Epoch 8/50\n",
            "93/93 [==============================] - 160s 2s/step - loss: 0.6636 - accuracy: 0.6090 - val_loss: 0.6638 - val_accuracy: 0.6052\n",
            "Epoch 9/50\n",
            "93/93 [==============================] - 159s 2s/step - loss: 0.6526 - accuracy: 0.6160 - val_loss: 0.6644 - val_accuracy: 0.5813\n",
            "Epoch 10/50\n",
            "93/93 [==============================] - 160s 2s/step - loss: 0.6469 - accuracy: 0.6171 - val_loss: 0.6539 - val_accuracy: 0.6247\n",
            "Epoch 11/50\n",
            "93/93 [==============================] - 159s 2s/step - loss: 0.6478 - accuracy: 0.6268 - val_loss: 0.6973 - val_accuracy: 0.5184\n",
            "Epoch 12/50\n",
            "93/93 [==============================] - 160s 2s/step - loss: 0.6304 - accuracy: 0.6398 - val_loss: 0.6492 - val_accuracy: 0.6334\n",
            "Epoch 13/50\n",
            "93/93 [==============================] - 160s 2s/step - loss: 0.6262 - accuracy: 0.6566 - val_loss: 0.6308 - val_accuracy: 0.6421\n",
            "Epoch 14/50\n",
            "93/93 [==============================] - 164s 2s/step - loss: 0.5615 - accuracy: 0.7009 - val_loss: 0.6004 - val_accuracy: 0.6616\n",
            "Epoch 15/50\n",
            "93/93 [==============================] - 164s 2s/step - loss: 0.5170 - accuracy: 0.7404 - val_loss: 0.5717 - val_accuracy: 0.7158\n",
            "Epoch 16/50\n",
            "93/93 [==============================] - 162s 2s/step - loss: 0.4889 - accuracy: 0.7680 - val_loss: 0.5360 - val_accuracy: 0.7332\n",
            "Epoch 17/50\n",
            "93/93 [==============================] - 161s 2s/step - loss: 0.4460 - accuracy: 0.7880 - val_loss: 0.5288 - val_accuracy: 0.7310\n",
            "Epoch 18/50\n",
            "93/93 [==============================] - 160s 2s/step - loss: 0.4414 - accuracy: 0.7945 - val_loss: 0.5360 - val_accuracy: 0.7549\n",
            "Epoch 19/50\n",
            "93/93 [==============================] - 160s 2s/step - loss: 0.4156 - accuracy: 0.8037 - val_loss: 0.5362 - val_accuracy: 0.7527\n",
            "Epoch 20/50\n",
            "93/93 [==============================] - 160s 2s/step - loss: 0.3798 - accuracy: 0.8183 - val_loss: 0.5216 - val_accuracy: 0.7462\n",
            "Epoch 21/50\n",
            "93/93 [==============================] - 160s 2s/step - loss: 0.3779 - accuracy: 0.8237 - val_loss: 0.5455 - val_accuracy: 0.7332\n",
            "Epoch 22/50\n",
            "93/93 [==============================] - 159s 2s/step - loss: 0.3632 - accuracy: 0.8394 - val_loss: 0.4959 - val_accuracy: 0.7462\n",
            "Epoch 23/50\n",
            "93/93 [==============================] - 159s 2s/step - loss: 0.3486 - accuracy: 0.8378 - val_loss: 0.5679 - val_accuracy: 0.7636\n",
            "Epoch 24/50\n",
            "93/93 [==============================] - 161s 2s/step - loss: 0.3132 - accuracy: 0.8605 - val_loss: 0.5945 - val_accuracy: 0.7636\n",
            "Epoch 25/50\n",
            "93/93 [==============================] - 159s 2s/step - loss: 0.3095 - accuracy: 0.8675 - val_loss: 0.5871 - val_accuracy: 0.7549\n",
            "Epoch 26/50\n",
            "93/93 [==============================] - 159s 2s/step - loss: 0.2871 - accuracy: 0.8816 - val_loss: 0.6322 - val_accuracy: 0.7614\n",
            "Epoch 27/50\n",
            "93/93 [==============================] - 158s 2s/step - loss: 0.2912 - accuracy: 0.8767 - val_loss: 0.5961 - val_accuracy: 0.8026\n",
            "Epoch 28/50\n",
            "93/93 [==============================] - 159s 2s/step - loss: 0.2422 - accuracy: 0.8983 - val_loss: 0.6173 - val_accuracy: 0.7831\n",
            "Epoch 29/50\n",
            "93/93 [==============================] - 160s 2s/step - loss: 0.2399 - accuracy: 0.9048 - val_loss: 0.6420 - val_accuracy: 0.7701\n",
            "Epoch 30/50\n",
            "93/93 [==============================] - 162s 2s/step - loss: 0.2335 - accuracy: 0.9081 - val_loss: 0.7516 - val_accuracy: 0.7614\n",
            "Epoch 31/50\n",
            "93/93 [==============================] - 161s 2s/step - loss: 0.1973 - accuracy: 0.9216 - val_loss: 0.7540 - val_accuracy: 0.7874\n",
            "Epoch 32/50\n",
            "93/93 [==============================] - 160s 2s/step - loss: 0.1952 - accuracy: 0.9254 - val_loss: 0.7316 - val_accuracy: 0.7657\n",
            "Epoch 33/50\n",
            "93/93 [==============================] - 160s 2s/step - loss: 0.1742 - accuracy: 0.9292 - val_loss: 1.0546 - val_accuracy: 0.7354\n",
            "Epoch 34/50\n",
            "93/93 [==============================] - 159s 2s/step - loss: 0.1979 - accuracy: 0.9243 - val_loss: 0.7372 - val_accuracy: 0.7831\n",
            "Epoch 35/50\n",
            "93/93 [==============================] - 162s 2s/step - loss: 0.1996 - accuracy: 0.9162 - val_loss: 0.7060 - val_accuracy: 0.7766\n",
            "Epoch 36/50\n",
            "93/93 [==============================] - 159s 2s/step - loss: 0.1474 - accuracy: 0.9421 - val_loss: 0.7643 - val_accuracy: 0.7701\n",
            "Epoch 37/50\n",
            "93/93 [==============================] - 159s 2s/step - loss: 0.1346 - accuracy: 0.9502 - val_loss: 0.8054 - val_accuracy: 0.7766\n",
            "Epoch 38/50\n",
            "93/93 [==============================] - 161s 2s/step - loss: 0.1653 - accuracy: 0.9438 - val_loss: 0.6928 - val_accuracy: 0.7766\n",
            "Epoch 39/50\n",
            "93/93 [==============================] - 160s 2s/step - loss: 0.1349 - accuracy: 0.9508 - val_loss: 0.7395 - val_accuracy: 0.7961\n",
            "Epoch 40/50\n",
            "93/93 [==============================] - 159s 2s/step - loss: 0.1183 - accuracy: 0.9589 - val_loss: 0.7917 - val_accuracy: 0.7657\n",
            "Epoch 41/50\n",
            "93/93 [==============================] - 158s 2s/step - loss: 0.1121 - accuracy: 0.9573 - val_loss: 1.1093 - val_accuracy: 0.7592\n",
            "Epoch 42/50\n",
            "93/93 [==============================] - 159s 2s/step - loss: 0.1287 - accuracy: 0.9470 - val_loss: 1.0001 - val_accuracy: 0.7701\n",
            "Epoch 43/50\n",
            "93/93 [==============================] - 158s 2s/step - loss: 0.1159 - accuracy: 0.9594 - val_loss: 0.8232 - val_accuracy: 0.7874\n",
            "Epoch 44/50\n",
            "93/93 [==============================] - 159s 2s/step - loss: 0.0771 - accuracy: 0.9746 - val_loss: 1.1272 - val_accuracy: 0.7701\n",
            "Epoch 45/50\n",
            "93/93 [==============================] - 159s 2s/step - loss: 0.1126 - accuracy: 0.9627 - val_loss: 0.9048 - val_accuracy: 0.7722\n",
            "Epoch 46/50\n",
            "93/93 [==============================] - 159s 2s/step - loss: 0.0725 - accuracy: 0.9746 - val_loss: 1.1111 - val_accuracy: 0.7809\n",
            "Epoch 47/50\n",
            "93/93 [==============================] - 158s 2s/step - loss: 0.0979 - accuracy: 0.9616 - val_loss: 0.9932 - val_accuracy: 0.7701\n",
            "Epoch 48/50\n",
            "93/93 [==============================] - 159s 2s/step - loss: 0.0639 - accuracy: 0.9773 - val_loss: 1.2978 - val_accuracy: 0.7722\n",
            "Epoch 49/50\n",
            "93/93 [==============================] - 171s 2s/step - loss: 0.0758 - accuracy: 0.9713 - val_loss: 1.0334 - val_accuracy: 0.7831\n",
            "Epoch 50/50\n",
            "93/93 [==============================] - 165s 2s/step - loss: 0.0781 - accuracy: 0.9730 - val_loss: 0.9192 - val_accuracy: 0.7831\n"
          ]
        }
      ]
    },
    {
      "cell_type": "code",
      "metadata": {
        "colab": {
          "base_uri": "https://localhost:8080/",
          "height": 562
        },
        "id": "RUgBkxIiP_ym",
        "outputId": "e2d0b00f-5dc1-4cb9-fb81-74d0929d95b4"
      },
      "source": [
        "import matplotlib.pyplot as plt\n",
        "acc = iterate_model.history['accuracy']\n",
        "val_acc = iterate_model.history['val_accuracy']\n",
        "loss = iterate_model.history['loss']\n",
        "val_loss = iterate_model.history['val_loss']\n",
        "\n",
        "epochs = range(len(acc))\n",
        "\n",
        "plt.plot(epochs, acc, 'r', label='Training accuracy')\n",
        "plt.plot(epochs, val_acc, 'b', label='Validation accuracy')\n",
        "plt.title('Training and validation accuracy')\n",
        "plt.legend(loc=0)\n",
        "plt.figure()\n",
        "plt.plot(epochs, loss, 'r', label='Training loss')\n",
        "plt.plot(epochs, val_loss, 'b', label='Validation loss')\n",
        "plt.title('Training and validation loss')\n",
        "plt.legend(loc=0)\n",
        "plt.figure()\n",
        "\n",
        "plt.show()"
      ],
      "execution_count": null,
      "outputs": [
        {
          "output_type": "display_data",
          "data": {
            "image/png": "[encoded data removed]",
            "text/plain": [
              "<Figure size 432x288 with 1 Axes>"
            ]
          },
          "metadata": {
            "needs_background": "light"
          }
        },
        {
          "output_type": "display_data",
          "data": {
            "image/png": "[encoded data removed]",
            "text/plain": [
              "<Figure size 432x288 with 1 Axes>"
            ]
          },
          "metadata": {
            "needs_background": "light"
          }
        },
        {
          "output_type": "display_data",
          "data": {
            "text/plain": [
              "<Figure size 432x288 with 0 Axes>"
            ]
          },
          "metadata": {}
        }
      ]
    },
    {
      "cell_type": "code",
      "metadata": {
        "id": "auE4v-vLtxGK"
      },
      "source": [
        ""
      ],
      "execution_count": null,
      "outputs": []
    }
  ]
}